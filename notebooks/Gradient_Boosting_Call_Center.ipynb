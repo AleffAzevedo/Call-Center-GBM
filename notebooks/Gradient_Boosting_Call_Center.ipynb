{
 "cells": [
  {
   "cell_type": "markdown",
   "metadata": {},
   "source": [
    "# Previsão de Indicadores de Call Center com Gradient Boosting\n",
    "Este notebook demonstra a aplicação de um modelo de Gradient Boosting para prever o numerador e o denominador de indicadores de call center (CSAT, Nota de Qualidade e TMA) com base em dados de data e variáveis categóricas."
   ]
  },
  {
   "cell_type": "markdown",
   "metadata": {},
   "source": [
    "## 1. Geração de Dados Fictícios\n",
    "Para este exemplo, geraremos uma base de dados fictícia que simula informações de um call center. Esta base incluirá datas, IDs de login de agentes, nomes de indicadores (CSAT, Nota de Qualidade, TMA), valores de numerador e denominador, e grupos de agentes."
   ]
  },
  {
   "cell_type": "code",
   "execution_count": null,
   "metadata": {},
   "outputs": [],
   "source": [
    "import pandas as pd\n",
    "import numpy as np\n",
    "from datetime import datetime, timedelta\n",
    "\n",
    "def generate_call_center_data(num_rows=1000):\n",
    "    np.random.seed(42)\n",
    "    \n",
    "    # Datas\n",
    "    start_date = datetime(2024, 1, 1)\n",
    "    dates = [start_date + timedelta(days=np.random.randint(0, 365)) for _ in range(num_rows)]\n",
    "    \n",
    "    # Indicadores\n",
    "    indicadores = [\"CSAT\", \"Nota de Qualidade\", \"TMA\"]\n",
    "    nome_indicado = np.random.choice(indicadores, num_rows)\n",
    "    \n",
    "    # Grupos de Agentes\n",
    "    grupos_agente = [f\"Grupo_{i}\" for i in range(5)]\n",
    "    grupo_agente = np.random.choice(grupos_agente, num_rows)\n",
    "    \n",
    "    # Logins (IDs de Agentes)\n",
    "    logins = [f\"Agente_{i}\" for i in range(50)]\n",
    "    login = np.random.choice(logins, num_rows)\n",
    "    \n",
    "    # Numerador e Denominador\n",
    "    numerador = np.random.randint(0, 1000, num_rows)\n",
    "    denominador = numerador + np.random.randint(1, 500, num_rows)\n",
    "    \n",
    "    # Ajustar para TMA (tempo médio de atendimento) - numerador é tempo, denominador é número de chamadas\n",
    "    for i in range(num_rows):\n",
    "        if nome_indicado[i] == \"TMA\":\n",
    "            numerador[i] = np.random.randint(60, 1200) # Tempo em segundos\n",
    "            denominador[i] = np.random.randint(10, 200) # Número de chamadas\n",
    "        elif nome_indicado[i] == \"CSAT\":\n",
    "            numerador[i] = np.random.randint(0, 100) # Pontuação\n",
    "            denominador[i] = np.random.randint(1, 100) # Total de pesquisas\n",
    "        elif nome_indicado[i] == \"Nota de Qualidade\":\n",
    "            numerador[i] = np.random.randint(0, 10) # Pontuação\n",
    "            denominador[i] = np.random.randint(1, 10) # Total de avaliações\n",
    "\n",
    "    df = pd.DataFrame({\n",
    "        \"DATA\": dates,\n",
    "        \"LOGIN\": login,\n",
    "        \"NOME_INDICADO\": nome_indicado,\n",
    "        \"NUMERADOR\": numerador,\n",
    "        \"DENOMINADOR\": denominador,\n",
    "        \"GRUPO_AGENTE\": grupo_agente\n",
    "    })\n",
    "    \n",
    "    return df\n",
    "\n",
    "df_ficticio = generate_call_center_data(num_rows=5000) # Gerar 5000 linhas de dados\n",
    "df_ficticio.to_csv(\"../data/call_center_data.csv\", index=False)\n",
    "print(\"Dados fictícios gerados e salvos em call_center_data.csv\")\n",
    "df_ficticio.head()"
   ]
  },
  {
   "cell_type": "markdown",
   "metadata": {},
   "source": [
    "## 2. Pré-processamento dos Dados\n",
    "Nesta seção, realizaremos o pré-processamento dos dados para prepará-los para o modelo de machine learning. Isso inclui a conversão da coluna de data para o formato datetime, a extração de features de tempo (ano, mês, dia do mês, dia da semana) e a codificação de variáveis categóricas usando `LabelEncoder`."
   ]
  },
  {
   "cell_type": "code",
   "execution_count": null,
   "metadata": {},
   "outputs": [],
   "source": [
    "from sklearn.preprocessing import LabelEncoder\n",
    "\n",
    "# Carregar a base de dados\n",
    "df = pd.read_csv(\"../data/call_center_data.csv\")\n",
    "\n",
    "# Converter DATA para datetime\n",
    "df[\"DATA\"] = pd.to_datetime(df[\"DATA\"])\n",
    "\n",
    "# Extrair features de data\n",
    "df[\"ANO\"] = df[\"DATA\"].dt.year\n",
    "df[\"MES\"] = df[\"DATA\"].dt.month\n",
    "df[\"DIA_DO_MES\"] = df[\"DATA\"].dt.day\n",
    "df[\"DIA_DA_SEMANA\"] = df[\"DATA\"].dt.dayofweek\n",
    "\n",
    "# Codificar variáveis categóricas\n",
    "le_login = LabelEncoder()\n",
    "df[\"LOGIN_ENCODED\"] = le_login.fit_transform(df[\"LOGIN\"])\n",
    "\n",
    "le_nome_indicado = LabelEncoder()\n",
    "df[\"NOME_INDICADO_ENCODED\"] = le_nome_indicado.fit_transform(df[\"NOME_INDICADO\"])\n",
    "\n",
    "le_grupo_agente = LabelEncoder()\n",
    "df[\"GRUPO_AGENTE_ENCODED\"] = le_grupo_agente.fit_transform(df[\"GRUPO_AGENTE\"])\n",
    "\n",
    "df.head()"
   ]
  },
  {
   "cell_type": "markdown",
   "metadata": {},
   "source": [
    "## 3. Desenvolvimento do Modelo de Gradient Boosting\n",
    "Utilizaremos o `GradientBoostingRegressor` do scikit-learn para construir os modelos de previsão para o numerador e o denominador. Dividiremos os dados em conjuntos de treino e teste para avaliar o desempenho do modelo de forma robusta."
   ]
  },
  {
   "cell_type": "code",
   "execution_count": null,
   "metadata": {},
   "outputs": [],
   "source": [
    "from sklearn.model_selection import train_test_split\n",
    "from sklearn.ensemble import GradientBoostingRegressor\n",
    "from sklearn.metrics import mean_squared_error, r2_score\n",
    "\n",
    "# Selecionar features e targets\n",
    "features = [\"ANO\", \"MES\", \"DIA_DO_MES\", \"DIA_DA_SEMANA\", \"LOGIN_ENCODED\", \"NOME_INDICADO_ENCODED\", \"GRUPO_AGENTE_ENCODED\"]\n",
    "targets = [\"NUMERADOR\", \"DENOMINADOR\"]\n",
    "\n",
    "X = df[features]\n",
    "y_numerador = df[\"NUMERADOR\"]\n",
    "y_denominador = df[\"DENOMINADOR\"]\n",
    "\n",
    "# Dividir os dados em treino e teste\n",
    "X_train, X_test, y_numerador_train, y_numerador_test = train_test_split(X, y_numerador, test_size=0.2, random_state=42)\n",
    "_, _, y_denominador_train, y_denominador_test = train_test_split(X, y_denominador, test_size=0.2, random_state=42)\n",
    "\n",
    "# Modelo para Numerador\n",
    "gbr_numerador = GradientBoostingRegressor(n_estimators=100, learning_rate=0.1, max_depth=3, random_state=42)\n",
    "gbr_numerador.fit(X_train, y_numerador_train)\n",
    "y_numerador_pred = gbr_numerador.predict(X_test)\n",
    "\n",
    "print(\"\n--- Avaliação do Modelo para NUMERADOR ---\")\n",
    "print(f\"Erro Quadrático Médio (MSE): {mean_squared_error(y_numerador_test, y_numerador_pred):.2f}\")\n",
    "print(f\"R2 Score: {r2_score(y_numerador_test, y_numerador_pred):.2f}\")\n",
    "\n",
    "# Modelo para Denominador\n",
    "gbr_denominador = GradientBoostingRegressor(n_estimators=100, learning_rate=0.1, max_depth=3, random_state=42)\n",
    "gbr_denominador.fit(X_train, y_denominador_train)\n",
    "y_denominador_pred = gbr_denominador.predict(X_test)\n",
    "\n",
    "print(\"\n--- Avaliação do Modelo para DENOMINADOR ---\")\n",
    "print(f\"Erro Quadrático Médio (MSE): {mean_squared_error(y_denominador_test, y_denominador_pred):.2f}\")\n",
    "print(f\"R2 Score: {r2_score(y_denominador_test, y_denominador_pred):.2f}\")\n"
   ]
  },
  {
   "cell_type": "markdown",
   "metadata": {},
   "source": [
    "## 4. Visualização dos Resultados\n",
    "Para entender melhor o desempenho do modelo, visualizaremos as previsões em comparação com os valores reais para o numerador e o denominador."
   ]
  },
  {
   "cell_type": "code",
   "execution_count": null,
   "metadata": {},
   "outputs": [],
   "source": [
    "import matplotlib.pyplot as plt\n",
    "import seaborn as sns\n",
    "\n",
    "# Visualização para Numerador\n",
    "plt.figure(figsize=(12, 6))\n",
    "sns.regplot(x=y_numerador_test, y=y_numerador_pred, scatter_kws={\'alpha\':0.3})\n",
    "plt.xlabel(\'Valores Reais do Numerador\')\n",
    "plt.ylabel(\'Valores Preditos do Numerador\')\n",
    "plt.title(\'Previsões do Numerador vs. Valores Reais\')\n",
    "plt.grid(True)\n",
    "plt.show()\n",
    "\n",
    "# Visualização para Denominador\n",
    "plt.figure(figsize=(12, 6))\n",
    "sns.regplot(x=y_denominador_test, y=y_denominador_pred, scatter_kws={\'alpha\':0.3})\n",
    "plt.xlabel(\'Valores Reais do Denominador\')\n",
    "plt.ylabel(\'Valores Preditos do Denominador\')\n",
    "plt.title(\'Previsões do Denominador vs. Valores Reais\')\n",
    "plt.grid(True)\n",
    "plt.show()"
   ]
  },
  {
   "cell_type": "markdown",
   "metadata": {},
   "source": [
    "## Conclusão\n",
    "Este notebook demonstrou um fluxo completo para a previsão de indicadores de call center usando Gradient Boosting, desde a geração de dados fictícios até a avaliação e visualização dos resultados. O modelo pode ser aprimorado com mais engenharia de features, otimização de hiperparâmetros e a inclusão de dados reais para maior precisão."
   ]
  }
 ],
 "metadata": {
  "kernelspec": {
   "display_name": "Python 3",
   "language": "python",
   "name": "python3"
  },
  "language_info": {
   "codemirror_mode": {
    "name": "ipython",
    "version": 3
   },
   "file_extension": ".py",
   "mimetype": "text/x-python",
   "name": "python",
   "nbconvert_exporter": "python",
   "pygments_lexer": "ipython3",
   "version": "3.11.0rc1"
  }
 },
 "nbformat": 4,
 "nbformat_minor": 4
}

